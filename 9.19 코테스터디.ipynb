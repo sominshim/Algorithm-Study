{
 "cells": [
  {
   "cell_type": "markdown",
   "id": "0218a0d7-69b0-42df-9f08-f94ddde6ba69",
   "metadata": {},
   "source": [
    "### 1. 피보나치 함수"
   ]
  },
  {
   "cell_type": "markdown",
   "id": "ce0afbaa-cf50-4e26-a2c2-abf3760fb41d",
   "metadata": {},
   "source": [
    "|n|0|1|2|3|4|5|6|\n",
    "|---|---|---|---|---|---|---|---|\n",
    "|0|1|0|1|1|2|3|5|\n",
    "|1|0|1|1|2|3|5|8|\n"
   ]
  },
  {
   "cell_type": "markdown",
   "id": "0c291dbf-9744-4c94-bf3f-41f02a8c01f6",
   "metadata": {},
   "source": [
    "맨 처음 0, 1이후로는 앞의 두 항의 합으로 횟수가 결정되는 것을 알 수 있다."
   ]
  },
  {
   "cell_type": "code",
   "execution_count": 4,
   "id": "b4f2756b-c8a4-4c29-8abb-968928fe110f",
   "metadata": {},
   "outputs": [
    {
     "name": "stdin",
     "output_type": "stream",
     "text": [
      " 3\n",
      " 0\n"
     ]
    },
    {
     "name": "stdout",
     "output_type": "stream",
     "text": [
      "1 0\n"
     ]
    },
    {
     "name": "stdin",
     "output_type": "stream",
     "text": [
      " 1\n"
     ]
    },
    {
     "name": "stdout",
     "output_type": "stream",
     "text": [
      "0 1\n"
     ]
    },
    {
     "name": "stdin",
     "output_type": "stream",
     "text": [
      " 3\n"
     ]
    },
    {
     "name": "stdout",
     "output_type": "stream",
     "text": [
      "1 2\n"
     ]
    }
   ],
   "source": [
    "def fibo(n):\n",
    "    count_0 = [1, 0]\n",
    "    count_1 = [0, 1]\n",
    "    if len(count_0) <= n:\n",
    "        for i in range(2, n+1):\n",
    "            count_0.append(count_0[i-1] + count_0[i-2])\n",
    "            count_1.append(count_1[i-1] + count_1[i-2])\n",
    "        \n",
    "    print(count_0[n], count_1[n])\n",
    "\n",
    "t = int(input())\n",
    "for _ in range(t):\n",
    "    n = int(input())\n",
    "    fibo(n)"
   ]
  },
  {
   "cell_type": "markdown",
   "id": "2188ff7d-b6d7-4587-b113-e64115980156",
   "metadata": {},
   "source": [
    "### 2. 그룹 단어 체커"
   ]
  },
  {
   "cell_type": "markdown",
   "id": "ef11087a-791d-45a1-a57d-cdd7fe5539fc",
   "metadata": {},
   "source": [
    "특정 문자가 다음에 나오지 않으면 그 이후 문자열을 모두 찾으며 또 있나 확인하여 없으면 카운트를 하자는 아이디어를 생각했지만 코드로 구현하지 못하여 블로그를 참고하였다."
   ]
  },
  {
   "cell_type": "code",
   "execution_count": 5,
   "id": "62468e0c-66bf-4720-8b21-61001c1c9500",
   "metadata": {},
   "outputs": [
    {
     "name": "stdin",
     "output_type": "stream",
     "text": [
      " 3\n",
      " happy\n",
      " new\n",
      " year\n"
     ]
    },
    {
     "name": "stdout",
     "output_type": "stream",
     "text": [
      "3\n"
     ]
    }
   ],
   "source": [
    "n = int(input())\n",
    "\n",
    "number = 0\n",
    "\n",
    "for i in range(n):\n",
    "    m = input()\n",
    "    for j in range(len(m)):\n",
    "        if j != len(m) - 1:\n",
    "            if m[j] == m[j + 1]:\n",
    "                pass\n",
    "            elif m[j] in m[j+1:]:\n",
    "                break\n",
    "        else:\n",
    "            number += 1\n",
    "print(number)"
   ]
  },
  {
   "cell_type": "markdown",
   "id": "87d7e6d9-bb5d-4642-83d0-46bf854a5309",
   "metadata": {},
   "source": [
    "### 3. 큐"
   ]
  },
  {
   "cell_type": "markdown",
   "id": "4a4022fc-c8bc-485c-8775-f655162c7b4e",
   "metadata": {},
   "source": [
    "저번 스택 문제처럼 문제 그대로 코딩했다. 하지만 시간초과가 떴다."
   ]
  },
  {
   "cell_type": "code",
   "execution_count": null,
   "id": "d2c95da5-d080-4da4-a4b7-259437de371b",
   "metadata": {},
   "outputs": [],
   "source": [
    "n = int(input())\n",
    "\n",
    "list = []\n",
    "for i in range(n):\n",
    "    order_list = input().split()\n",
    "    \n",
    "    if order_list[0] == 'push':\n",
    "        list.append(order_list[1])\n",
    "        \n",
    "    elif order_list[0] == 'pop':\n",
    "        if len(list) !=0:\n",
    "            print(list.pop(0))\n",
    "        else:\n",
    "            print(-1)\n",
    "            \n",
    "    elif order_list[0] == 'size':\n",
    "        print(len(list))\n",
    "        \n",
    "    elif order_list[0] == 'empty':\n",
    "        if len(list) == 0:\n",
    "            print(1)\n",
    "        else:\n",
    "            print(0)\n",
    "            \n",
    "    elif order_list[0] == 'front':\n",
    "        if len(list) !=0:\n",
    "            print(list[0])\n",
    "        else:\n",
    "            print(-1)\n",
    "            \n",
    "    elif order_list[0] == 'back':\n",
    "        if len(list) !=0:\n",
    "            print(list[-1])\n",
    "        else:\n",
    "            print(-1)"
   ]
  },
  {
   "cell_type": "markdown",
   "id": "fc5f1f84-21f1-4895-b94e-15c8a8756501",
   "metadata": {},
   "source": [
    "그래서 인풋을 sys로 바꿨더니 해결"
   ]
  },
  {
   "cell_type": "code",
   "execution_count": null,
   "id": "50455526-d9d6-491c-9eda-dd5067bd9e29",
   "metadata": {},
   "outputs": [],
   "source": [
    "from sys import stdin\n",
    "\n",
    "n = int(stdin.readline())\n",
    "\n",
    "list = []\n",
    "for i in range(n):\n",
    "    order_list = stdin.readline().split()\n",
    "    \n",
    "    if order_list[0] == 'push':\n",
    "        list.append(order_list[1])\n",
    "        \n",
    "    elif order_list[0] == 'pop':\n",
    "        if len(list) !=0:\n",
    "            print(list.pop(0))\n",
    "        else:\n",
    "            print(-1)\n",
    "            \n",
    "    elif order_list[0] == 'size':\n",
    "        print(len(list))\n",
    "        \n",
    "    elif order_list[0] == 'empty':\n",
    "        if len(list) == 0:\n",
    "            print(1)\n",
    "        else:\n",
    "            print(0)\n",
    "            \n",
    "    elif order_list[0] == 'front':\n",
    "        if len(list) !=0:\n",
    "            print(list[0])\n",
    "        else:\n",
    "            print(-1)\n",
    "            \n",
    "    elif order_list[0] == 'back':\n",
    "        if len(list) !=0:\n",
    "            print(list[-1])\n",
    "        else:\n",
    "            print(-1)"
   ]
  },
  {
   "cell_type": "markdown",
   "id": "0df2768c-d815-4ab7-b7ed-2219b5dc60db",
   "metadata": {},
   "source": [
    "### 4. 나무 자르기"
   ]
  },
  {
   "cell_type": "markdown",
   "id": "1ccd413b-67d8-40f6-8df1-fd0c281cbf78",
   "metadata": {},
   "source": [
    "문제가 책에 나와있는 떡자르기와 같았다. 근데 제출하면 시간초과가 뜨는데 이유를 모르겠다."
   ]
  },
  {
   "cell_type": "code",
   "execution_count": 1,
   "id": "8f6b0405-c37f-4e6f-871f-756447756d30",
   "metadata": {},
   "outputs": [
    {
     "name": "stdin",
     "output_type": "stream",
     "text": [
      " 4 7\n",
      " 20 15 10 17\n"
     ]
    },
    {
     "name": "stdout",
     "output_type": "stream",
     "text": [
      "15\n"
     ]
    }
   ],
   "source": [
    "n, m = list(map(int, input().split()))\n",
    "\n",
    "array = list(map(int, input().split()))\n",
    "\n",
    "start = 0\n",
    "end = max(array)\n",
    "\n",
    "result = 0\n",
    "while(start <= end):\n",
    "    total = 0\n",
    "    mid = (start + end) // 2\n",
    "    for x in array:\n",
    "        if x > mid:\n",
    "            total += x - mid\n",
    "            \n",
    "    if total < m:\n",
    "        end = mid - 1\n",
    "        \n",
    "    else:\n",
    "        result = mid\n",
    "        start = mid + 1\n",
    "        \n",
    "print(result)"
   ]
  },
  {
   "cell_type": "markdown",
   "id": "415ee690-e660-4777-898f-65bf6ff71eb5",
   "metadata": {},
   "source": [
    "### 5. 프린터 큐"
   ]
  },
  {
   "cell_type": "markdown",
   "id": "8703aaae-df4e-4dc4-bf0e-9d05e7b50147",
   "metadata": {},
   "source": [
    "모르겠다ㅠ"
   ]
  },
  {
   "cell_type": "code",
   "execution_count": null,
   "id": "7dad9b6b-f600-4d36-bbdc-19cf024f29d7",
   "metadata": {},
   "outputs": [],
   "source": []
  },
  {
   "cell_type": "markdown",
   "id": "51b3f189-0e00-49fc-8200-29da3c3093f6",
   "metadata": {},
   "source": [
    "### 6. 미로 탐색"
   ]
  },
  {
   "cell_type": "markdown",
   "id": "00b6817a-4d94-483b-b457-9fb5a052cbd9",
   "metadata": {},
   "source": [
    "BFS는 시작 지점에서 가까운 노드부터 차례대로 모든 노드를 탐색하기 때문에 BFS를 이용했을 때 효과적."
   ]
  },
  {
   "cell_type": "code",
   "execution_count": 2,
   "id": "f37e9cfe-28a5-4a2c-a2f1-4a227a33d3b5",
   "metadata": {},
   "outputs": [
    {
     "name": "stdin",
     "output_type": "stream",
     "text": [
      " 4 6\n",
      " 101111\n",
      " 101010\n",
      " 101011\n",
      " 111011\n"
     ]
    },
    {
     "name": "stdout",
     "output_type": "stream",
     "text": [
      "15\n"
     ]
    }
   ],
   "source": [
    "from collections import deque\n",
    "\n",
    "n, m = map(int, input().split())\n",
    "graph = []\n",
    "for i in range(n):\n",
    "    graph.append(list(map(int, input())))\n",
    "    \n",
    "dx = [-1, 1, 0, 0]\n",
    "dy = [0, 0, -1, 1]\n",
    "\n",
    "def bfs(x, y):\n",
    "    queue = deque()\n",
    "    queue.append((x, y))\n",
    "    \n",
    "    while queue:\n",
    "        x, y = queue.popleft()\n",
    "        \n",
    "        for i in range(4):\n",
    "            nx = x + dx[i]\n",
    "            ny = y + dy[i]\n",
    "            if nx < 0 or ny < 0 or nx >= n or ny >= m:\n",
    "                continue\n",
    "            if graph[nx][ny] == 0:\n",
    "                continue\n",
    "                \n",
    "            if graph[nx][ny] == 1:\n",
    "                graph[nx][ny] = graph[x][y] + 1\n",
    "                queue.append((nx, ny))\n",
    "                \n",
    "    return graph[n-1][m-1]\n",
    "\n",
    "print(bfs(0, 0))"
   ]
  },
  {
   "cell_type": "markdown",
   "id": "084b3c19-0da3-4fc5-9c87-aca66133c588",
   "metadata": {},
   "source": [
    "### 7. 단지번호붙히기"
   ]
  },
  {
   "cell_type": "code",
   "execution_count": null,
   "id": "0fbe1c61-1256-4d6c-b904-42fdd4bc242f",
   "metadata": {},
   "outputs": [],
   "source": []
  }
 ],
 "metadata": {
  "kernelspec": {
   "display_name": "Python 3",
   "language": "python",
   "name": "python3"
  },
  "language_info": {
   "codemirror_mode": {
    "name": "ipython",
    "version": 3
   },
   "file_extension": ".py",
   "mimetype": "text/x-python",
   "name": "python",
   "nbconvert_exporter": "python",
   "pygments_lexer": "ipython3",
   "version": "3.8.8"
  }
 },
 "nbformat": 4,
 "nbformat_minor": 5
}
