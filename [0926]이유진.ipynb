{
 "cells": [
  {
   "cell_type": "markdown",
   "metadata": {},
   "source": [
    "# [0926]"
   ]
  },
  {
   "cell_type": "markdown",
   "metadata": {},
   "source": [
    "# 이것이 코딩테스트다\n",
    "\n",
    "### 실전 문제 4. 미로 탈출\n",
    "\n",
    "동빈이는 N X M 크기의 직사각형 형태의 미로에 갇혀 있다. 미로에는 여러 마리의 괴물이 있어 이를 피해 탈출해야 한다.\n",
    "\n",
    "동빈이의 위치는 (1, 1)이고 미로의 출구는 (N, M)의 위치에 존재하며 한번에 한 칸씩 이동할 수 있다. \n",
    "\n",
    "이때 괴물이 있는 부분은 0으로, 괴물이 없는 부분은 1로 표시되어 있다. \n",
    "\n",
    "미로는 반드시 탈출할 수 있는 형태로 제시된다.\n",
    "\n",
    "이때 동빈이가 탈출하기 위해 움직여야 하는 최소 칸의 개수를 구하시오.\n",
    "\n",
    "칸을 셀 때는 시작 칸과 마지막 칸을 모두 포함해서 계산한다."
   ]
  },
  {
   "cell_type": "markdown",
   "metadata": {},
   "source": [
    "##### 입력 조건\n",
    "\n",
    "- 첫째 줄에 두 정수 N, M (4 <= N, M <= 200)이 주어집니다. 다음 N개의 줄에는 각각 M개의 정수 (0 혹은 1)로 미로의 정보가 주어진다. 각각의 수들은 공백 없이 붙어서 입력으로 제시된다. 또한 시작 칸과 마지막 칸은 항상 1이다.\n",
    "\n",
    "##### 출력 조건\n",
    "\n",
    "- 첫째 줄에 최소 이동 칸의 개수를 출력한다."
   ]
  },
  {
   "cell_type": "code",
   "execution_count": 2,
   "metadata": {},
   "outputs": [
    {
     "name": "stdout",
     "output_type": "stream",
     "text": [
      "5 6\n",
      "101010\n",
      "111111\n",
      "000001\n",
      "111111\n",
      "111111\n",
      "10\n"
     ]
    }
   ],
   "source": [
    "import sys\n",
    "from collections import deque\n",
    "\n",
    "N, M = map(int, input().split()) # 미로 정보\n",
    "\n",
    "graph = []\n",
    "\n",
    "for i in range(N):\n",
    "    graph.append(list(map(int, input())))\n",
    "    \n",
    "dx = [-1,1,0,0]\n",
    "dy = [0,0,-1,1]\n",
    "\n",
    "# BFS\n",
    "def bfs(x, y):\n",
    "    queue = deque()\n",
    "    queue.append((x, y))\n",
    "    \n",
    "    while queue :\n",
    "        x, y = queue.popleft()\n",
    "        \n",
    "        #네 방향 확인\n",
    "        for i in range(4):\n",
    "            nx = x + dx[i]\n",
    "            ny = y + dy[i]\n",
    "            \n",
    "            if nx < 0 or ny < 0 or nx >= N or ny >= M : #공간을 벗어날때\n",
    "                continue\n",
    "                \n",
    "            if graph[nx][ny] == 0 : #벽일때\n",
    "                continue\n",
    "            \n",
    "            if graph[nx][ny] == 1 : #해당노드를 처음 방문하는 경우에만\n",
    "                graph[nx][ny] = graph[x][y] + 1 # 이전 노드 + 1\n",
    "                queue.append((nx, ny))\n",
    "                \n",
    "    return graph[N-1][M-1] #가장 오른쪽 아래까지의 최단 거리 반환\n",
    "\n",
    "#BFS 수행 결과 출력\n",
    "print(bfs(0,0))"
   ]
  },
  {
   "cell_type": "markdown",
   "metadata": {},
   "source": [
    "-------------------------\n",
    "\n",
    "# 백준 BFS\n",
    "\n",
    "##### 문제 7576 토마토\n",
    "\n",
    "철수의 토마토 농장에서는 토마토를 보관하는 큰 창고를 가지고 있다. 토마토는 아래의 그림과 같이 격자 모양 상자의 칸에 하나씩 넣어서 창고에 보관한다. \n",
    "\n",
    "\n",
    "\n",
    "창고에 보관되는 토마토들 중에는 잘 익은 것도 있지만, 아직 익지 않은 토마토들도 있을 수 있다. 보관 후 하루가 지나면, 익은 토마토들의 인접한 곳에 있는 익지 않은 토마토들은 익은 토마토의 영향을 받아 익게 된다. 하나의 토마토의 인접한 곳은 왼쪽, 오른쪽, 앞, 뒤 네 방향에 있는 토마토를 의미한다. 대각선 방향에 있는 토마토들에게는 영향을 주지 못하며, 토마토가 혼자 저절로 익는 경우는 없다고 가정한다. 철수는 창고에 보관된 토마토들이 며칠이 지나면 다 익게 되는지, 그 최소 일수를 알고 싶어 한다.\n",
    "\n",
    "토마토를 창고에 보관하는 격자모양의 상자들의 크기와 익은 토마토들과 익지 않은 토마토들의 정보가 주어졌을 때, 며칠이 지나면 토마토들이 모두 익는지, 그 최소 일수를 구하는 프로그램을 작성하라. 단, 상자의 일부 칸에는 토마토가 들어있지 않을 수도 있다.\n",
    "\n",
    "------------------------------------------------------\n",
    "##### 입력\n",
    "\n",
    "첫 줄에는 상자의 크기를 나타내는 두 정수 M,N이 주어진다. M은 상자의 가로 칸의 수, N은 상자의 세로 칸의 수를 나타낸다. 단, 2 ≤ M,N ≤ 1,000 이다. 둘째 줄부터는 하나의 상자에 저장된 토마토들의 정보가 주어진다. 즉, 둘째 줄부터 N개의 줄에는 상자에 담긴 토마토의 정보가 주어진다. 하나의 줄에는 상자 가로줄에 들어있는 토마토의 상태가 M개의 정수로 주어진다. 정수 1은 익은 토마토, 정수 0은 익지 않은 토마토, 정수 -1은 토마토가 들어있지 않은 칸을 나타낸다.\n",
    "\n",
    "토마토가 하나 이상 있는 경우만 입력으로 주어진다.\n",
    "\n",
    "##### 출력\n",
    "\n",
    "여러분은 토마토가 모두 익을 때까지의 최소 날짜를 출력해야 한다. 만약, 저장될 때부터 모든 토마토가 익어있는 상태이면 0을 출력해야 하고, 토마토가 모두 익지는 못하는 상황이면 -1을 출력해야 한다.\n",
    "\n",
    "---------------------------------------------------\n",
    "\n",
    "##### 내 아이디어\n",
    "\n",
    "1인 걸 찾는다! (익은토마토)\n",
    "\n",
    "없으면 -1\n",
    "\n",
    "1인 좌표를 queue에 저장\n",
    "\n",
    "bfs수행"
   ]
  },
  {
   "cell_type": "code",
   "execution_count": 4,
   "metadata": {},
   "outputs": [
    {
     "name": "stdout",
     "output_type": "stream",
     "text": [
      "6 4\n",
      "0 0 0 0 0 0\n",
      "0 0 0 0 0 0\n",
      "0 0 0 0 0 0\n",
      "0 0 0 0 0 1\n",
      "8\n"
     ]
    }
   ],
   "source": [
    "import sys\n",
    "from collections import deque\n",
    "\n",
    "M, N = map(int, input().split())  # 제출할 땐 sys사용함\n",
    "\n",
    "graph = []\n",
    "queue = deque()\n",
    "\n",
    "for i in range(N):\n",
    "    graph.append(list(map(int, input().split())))\n",
    "    \n",
    "    for j in range(M):\n",
    "        if graph[i][j]==1:\n",
    "            queue.append((i, j))\n",
    "        \n",
    "dx = [-1, 1, 0, 0]\n",
    "dy = [0, 0, -1, 1]\n",
    "\n",
    "def tomato():\n",
    "    \n",
    "    while queue:\n",
    "        x, y = queue.popleft()\n",
    "        #print(x,y)\n",
    "        for i in range(4):\n",
    "            nx = x + dx[i]\n",
    "            ny = y + dy[i]\n",
    "            \n",
    "            if nx < 0 or ny < 0 or nx >= N or ny >= M :\n",
    "                continue\n",
    "            if graph[nx][ny] == -1 : \n",
    "                continue\n",
    "            if graph[nx][ny] == 0 :\n",
    "                queue.append((nx, ny))\n",
    "                graph[nx][ny] = graph[x][y] + 1\n",
    "                \n",
    "    return graph\n",
    "\n",
    "graph = tomato()\n",
    "\n",
    "result = 0\n",
    "for i in graph:\n",
    "    if 0 in i : \n",
    "        result = -1\n",
    "        break\n",
    "        \n",
    "    result = max(result, max(i))\n",
    "\n",
    "if result == -1:\n",
    "    print(result)\n",
    "else :\n",
    "    print(result-1) #첫번째꺼 빼줌"
   ]
  },
  {
   "cell_type": "markdown",
   "metadata": {},
   "source": [
    "------------------------------------------\n",
    "\n",
    "\n",
    "# 백준 DFS\n",
    "\n",
    "##### 문제 2606 바이러스\n",
    "\n",
    "신종 바이러스인 웜 바이러스는 네트워크를 통해 전파된다. 한 컴퓨터가 웜 바이러스에 걸리면 그 컴퓨터와 네트워크 상에서 연결되어 있는 모든 컴퓨터는 웜 바이러스에 걸리게 된다.\n",
    "\n",
    "예를 들어 7대의 컴퓨터가 <그림 1>과 같이 네트워크 상에서 연결되어 있다고 하자. 1번 컴퓨터가 웜 바이러스에 걸리면 웜 바이러스는 2번과 5번 컴퓨터를 거쳐 3번과 6번 컴퓨터까지 전파되어 2, 3, 5, 6 네 대의 컴퓨터는 웜 바이러스에 걸리게 된다. 하지만 4번과 7번 컴퓨터는 1번 컴퓨터와 네트워크상에서 연결되어 있지 않기 때문에 영향을 받지 않는다.\n",
    "\n",
    "어느 날 1번 컴퓨터가 웜 바이러스에 걸렸다. 컴퓨터의 수와 네트워크 상에서 서로 연결되어 있는 정보가 주어질 때, 1번 컴퓨터를 통해 웜 바이러스에 걸리게 되는 컴퓨터의 수를 출력하는 프로그램을 작성하시오.\n",
    "\n",
    "-------------------------------------------------\n",
    "\n",
    "##### 입력\n",
    "\n",
    "첫째 줄에는 컴퓨터의 수가 주어진다. 컴퓨터의 수는 100 이하이고 각 컴퓨터에는 1번 부터 차례대로 번호가 매겨진다. 둘째 줄에는 네트워크 상에서 직접 연결되어 있는 컴퓨터 쌍의 수가 주어진다. 이어서 그 수만큼 한 줄에 한 쌍씩 네트워크 상에서 직접 연결되어 있는 컴퓨터의 번호 쌍이 주어진다.\n",
    "\n",
    "##### 출력\n",
    "\n",
    "1번 컴퓨터가 웜 바이러스에 걸렸을 때, 1번 컴퓨터를 통해 웜 바이러스에 걸리게 되는 컴퓨터의 수를 첫째 줄에 출력한다."
   ]
  },
  {
   "cell_type": "code",
   "execution_count": 5,
   "metadata": {},
   "outputs": [
    {
     "name": "stdout",
     "output_type": "stream",
     "text": [
      "7\n",
      "6\n",
      "1 2\n",
      "2 3\n",
      "1 5\n",
      "5 2\n",
      "5 6\n",
      "4 7\n",
      "4\n"
     ]
    }
   ],
   "source": [
    "#컴퓨터 수\n",
    "N = int(input())\n",
    "\n",
    "#컴퓨터 쌍의 수\n",
    "M = int(input())\n",
    "\n",
    "graph = {i: [] for i in range(1, N+1)}\n",
    "\n",
    "for i in range(M):\n",
    "    k, v = map(int, input().split())\n",
    "    graph[k].append(v)\n",
    "    graph[v].append(k)\n",
    "    \n",
    "for i in graph:\n",
    "    graph[i].sort()\n",
    "\n",
    "def dfs(start, dic):\n",
    "    for i in dic[start]:\n",
    "        if i not in visited:\n",
    "            visited.append(i)\n",
    "            dfs(i, dic)\n",
    "visited = []\n",
    "dfs(1, graph)\n",
    "print(len(visited)-1)"
   ]
  },
  {
   "cell_type": "markdown",
   "metadata": {},
   "source": [
    "런타임 에러로 블로그 참고..\n",
    "\n",
    "https://chancoding.tistory.com/60"
   ]
  },
  {
   "cell_type": "code",
   "execution_count": null,
   "metadata": {},
   "outputs": [],
   "source": [
    "from sys import stdin\n",
    "read = stdin.readline\n",
    "dic={}\n",
    "for i in range(int(read())):\n",
    "    dic[i+1] = set()\n",
    "for j in range(int(read())):\n",
    "    a, b = map(int,read().split())\n",
    "    dic[a].add(b)\n",
    "    dic[b].add(a)\n",
    "\n",
    "def dfs(start, dic):\n",
    "    for i in dic[start]:\n",
    "        if i not in visited:\n",
    "            visited.append(i)\n",
    "            dfs(i, dic)\n",
    "visited = []\n",
    "dfs(1, dic)\n",
    "print(len(visited)-1)"
   ]
  },
  {
   "cell_type": "markdown",
   "metadata": {},
   "source": [
    "-----------------------------\n",
    "\n",
    "# 백준 구현\n",
    "\n",
    "##### 문제 2941 크로아티아 알파벳\n",
    "\n",
    "예전에는 운영체제에서 크로아티아 알파벳을 입력할 수가 없었다. 따라서, 다음과 같이 크로아티아 알파벳을 변경해서 입력했다.\n",
    "\n",
    "예를 들어, ljes=njak은 크로아티아 알파벳 6개(lj, e, š, nj, a, k)로 이루어져 있다. 단어가 주어졌을 때, 몇 개의 크로아티아 알파벳으로 이루어져 있는지 출력한다.\n",
    "\n",
    "dž는 무조건 하나의 알파벳으로 쓰이고, d와 ž가 분리된 것으로 보지 않는다. lj와 nj도 마찬가지이다. 위 목록에 없는 알파벳은 한 글자씩 센다.\n",
    "\n",
    "---------------------------------\n",
    "\n",
    "###### 입력\n",
    "\n",
    "첫째 줄에 최대 100글자의 단어가 주어진다. 알파벳 소문자와 '-', '='로만 이루어져 있다.\n",
    "\n",
    "단어는 크로아티아 알파벳으로 이루어져 있다. 문제 설명의 표에 나와있는 알파벳은 변경된 형태로 입력된다.\n",
    "\n",
    "##### 출력\n",
    "\n",
    "입력으로 주어진 단어가 몇 개의 크로아티아 알파벳으로 이루어져 있는지 출력한다."
   ]
  },
  {
   "cell_type": "markdown",
   "metadata": {},
   "source": [
    "------------------------------------\n",
    "\n",
    "다 돌면서 하나하나 확인하려했는데 더 간단한 코드 발견\n",
    "\n",
    "##### 참고 블로그\n",
    "\n",
    "https://hongku.tistory.com/255"
   ]
  },
  {
   "cell_type": "code",
   "execution_count": 6,
   "metadata": {},
   "outputs": [
    {
     "name": "stdout",
     "output_type": "stream",
     "text": [
      "ljes=njak\n",
      "6\n"
     ]
    }
   ],
   "source": [
    "cro = ['c=', 'c-', 'dz=', 'd-', 'lj', 'nj', 's=', 'z=']\n",
    "\n",
    "alphabet = input()\n",
    "\n",
    "for t in cro:\n",
    "    alphabet = alphabet.replace(t, '*')\n",
    "\n",
    "print(len(alphabet))"
   ]
  },
  {
   "cell_type": "markdown",
   "metadata": {},
   "source": [
    "-------------------------------------------\n",
    "# 백준 시뮬레이션\n",
    "\n",
    "\n",
    "##### 문제 1244 스위치 켜고 끄기\n",
    "\n",
    "1부터 연속적으로 번호가 붙어있는 스위치들이 있다. 스위치는 켜져 있거나 꺼져있는 상태이다. <그림 1>에 스위치 8개의 상태가 표시되어 있다. ‘1’은 스위치가 켜져 있음을, ‘0’은 꺼져 있음을 나타낸다. 그리고 학생 몇 명을 뽑아서, 학생들에게 1 이상이고 스위치 개수 이하인 자연수를 하나씩 나누어주었다. 학생들은 자신의 성별과 받은 수에 따라 아래와 같은 방식으로 스위치를 조작하게 된다.\n",
    "\n",
    "남학생은 스위치 번호가 자기가 받은 수의 배수이면, 그 스위치의 상태를 바꾼다. 즉, 스위치가 켜져 있으면 끄고, 꺼져 있으면 켠다. <그림 1>과 같은 상태에서 남학생이 3을 받았다면, 이 학생은 <그림 2>와 같이 3번, 6번 스위치의 상태를 바꾼다.\n",
    "\n",
    "여학생은 자기가 받은 수와 같은 번호가 붙은 스위치를 중심으로 좌우가 대칭이면서 가장 많은 스위치를 포함하는 구간을 찾아서, 그 구간에 속한 스위치의 상태를 모두 바꾼다. 이때 구간에 속한 스위치 개수는 항상 홀수가 된다.\n",
    "\n",
    "예를 들어 <그림 2>에서 여학생이 3을 받았다면, 3번 스위치를 중심으로 2번, 4번 스위치의 상태가 같고 1번, 5번 스위치의 상태가 같으므로, <그림 3>과 같이 1번부터 5번까지 스위치의 상태를 모두 바꾼다. 만약 <그림 2>에서 여학생이 4를 받았다면, 3번, 5번 스위치의 상태가 서로 다르므로 4번 스위치의 상태만 바꾼다.\n",
    "\n",
    "입력으로 스위치들의 처음 상태가 주어지고, 각 학생의 성별과 받은 수가 주어진다. 학생들은 입력되는 순서대로 자기의 성별과 받은 수에 따라 스위치의 상태를 바꾸었을 때, 스위치들의 마지막 상태를 출력하는 프로그램을 작성하시오.\n",
    "\n",
    "------------------------\n",
    "\n",
    "##### 입력\n",
    "\n",
    "첫째 줄에는 스위치 개수가 주어진다. 스위치 개수는 100 이하인 양의 정수이다. 둘째 줄에는 각 스위치의 상태가 주어진다. 켜져 있으면 1, 꺼져있으면 0이라고 표시하고 사이에 빈칸이 하나씩 있다. 셋째 줄에는 학생수가 주어진다. 학생수는 100 이하인 양의 정수이다. 넷째 줄부터 마지막 줄까지 한 줄에 한 학생의 성별, 학생이 받은 수가 주어진다. 남학생은 1로, 여학생은 2로 표시하고, 학생이 받은 수는 스위치 개수 이하인 양의 정수이다. 학생의 성별과 받은 수 사이에 빈칸이 하나씩 있다.\n",
    "\n",
    "###### 출력\n",
    "\n",
    "스위치의 상태를 1번 스위치에서 시작하여 마지막 스위치까지 한 줄에 20개씩 출력한다. 예를 들어 21번 스위치가 있다면 이 스위치의 상태는 둘째 줄 맨 앞에 출력한다. 켜진 스위치는 1, 꺼진 스위치는 0으로 표시하고, 스위치 상태 사이에 빈칸을 하나씩 둔다.\n",
    "\n",
    "------------------------"
   ]
  },
  {
   "cell_type": "markdown",
   "metadata": {},
   "source": [
    "##### 참고 블로그\n",
    "\n",
    "https://ywtechit.tistory.com/144"
   ]
  },
  {
   "cell_type": "code",
   "execution_count": 7,
   "metadata": {},
   "outputs": [
    {
     "name": "stdout",
     "output_type": "stream",
     "text": [
      "8\n",
      "0 1 0 1 0 0 0 1\n",
      "2\n",
      "1 3\n",
      "2 3\n",
      "1 0 0 0 1 1 0 1 "
     ]
    }
   ],
   "source": [
    "# 간결한 코드\n",
    "n = int(input())\n",
    "arr = [-3333] + list(map(int, input().split()))    # append useless index arr[0] \n",
    " \n",
    "def male(switch, target):    # male case\n",
    "    for i in range(target, n + 1, target):    # change switch state\n",
    "        switch[i] = (switch[i] + 1) % 2\n",
    "    return switch\n",
    " \n",
    "def female(switch, target):    # female case\n",
    "    left, right = target - 1, target + 1\n",
    "    flag = True\n",
    " \n",
    "    try:    # prevent indexError\n",
    "        while flag:\n",
    "            if switch[left] == switch[right]:\n",
    "                left -= 1\n",
    "                right += 1\n",
    "            else:\n",
    "                flag = False\n",
    "    except:\n",
    "        pass\n",
    " \n",
    "    for i in range(left + 1, right):    # change switch state\n",
    "        switch[i] = (switch[i] + 1) % 2\n",
    "    return switch\n",
    " \n",
    "student = int(input())\n",
    "for _ in range(student):\n",
    "    sex, number = map(int, input().split())\n",
    "    if sex == 1:\n",
    "        male(arr, number)\n",
    "    else:\n",
    "        female(arr, number)\n",
    "        \n",
    "\n",
    "for i in range(1, len(arr)):    # print each 20 index\n",
    "    print(arr[i], end=' ')\n",
    "    if not i % 20:\n",
    "        print()"
   ]
  },
  {
   "cell_type": "markdown",
   "metadata": {},
   "source": [
    "# 백준 완전탐색\n",
    "\n",
    "##### 문제 1654 랜선 자르기\n",
    "\n",
    "집에서 시간을 보내던 오영식은 박성원의 부름을 받고 급히 달려왔다. 박성원이 캠프 때 쓸 N개의 랜선을 만들어야 하는데 너무 바빠서 영식이에게 도움을 청했다.\n",
    "\n",
    "이미 오영식은 자체적으로 K개의 랜선을 가지고 있다. 그러나 K개의 랜선은 길이가 제각각이다. 박성원은 랜선을 모두 N개의 같은 길이의 랜선으로 만들고 싶었기 때문에 K개의 랜선을 잘라서 만들어야 한다. 예를 들어 300cm 짜리 랜선에서 140cm 짜리 랜선을 두 개 잘라내면 20cm는 버려야 한다. (이미 자른 랜선은 붙일 수 없다.)\n",
    "\n",
    "편의를 위해 랜선을 자르거나 만들 때 손실되는 길이는 없다고 가정하며, 기존의 K개의 랜선으로 N개의 랜선을 만들 수 없는 경우는 없다고 가정하자. 그리고 자를 때는 항상 센티미터 단위로 정수길이만큼 자른다고 가정하자. N개보다 많이 만드는 것도 N개를 만드는 것에 포함된다. 이때 만들 수 있는 최대 랜선의 길이를 구하는 프로그램을 작성하시오.\n",
    "\n",
    "###### 입력\n",
    "\n",
    "첫째 줄에는 오영식이 이미 가지고 있는 랜선의 개수 K, 그리고 필요한 랜선의 개수 N이 입력된다. K는 1이상 10,000이하의 정수이고, N은 1이상 1,000,000이하의 정수이다. 그리고 항상 K ≦ N 이다. 그 후 K줄에 걸쳐 이미 가지고 있는 각 랜선의 길이가 센티미터 단위의 정수로 입력된다. 랜선의 길이는 231-1보다 작거나 같은 자연수이다.\n",
    "\n",
    "##### 출력\n",
    "\n",
    "첫째 줄에 N개를 만들 수 있는 랜선의 최대 길이를 센티미터 단위의 정수로 출력한다.\n",
    "\n",
    "##### 힌트\n",
    "\n",
    "802cm 랜선에서 4개, 743cm 랜선에서 3개, 457cm 랜선에서 2개, 539cm 랜선에서 2개를 잘라내 모두 11개를 만들 수 있다."
   ]
  },
  {
   "cell_type": "markdown",
   "metadata": {},
   "source": [
    "------------------------\n",
    "##### 참고 블로그\n",
    "\n",
    "https://claude-u.tistory.com/443\n",
    "\n",
    "##### solution\n",
    "\n",
    "이분탐색으로 풀 수 있는 대표적인 알고리즘 문제다.\n",
    "\n",
    "정답비율이 난리나 있는 이유는 (아마) 초보자들이 선뜻 덤볐다가 시간 초과 폭탄을 맞지 않았나 하는 생각이 든다ㅎㅎ(본인 포함)\n",
    "\n",
    "이분탐색에 대한 정의를 알고 오길 추천한다. (https://claude-u.tistory.com/267)\n",
    "\n",
    " \n",
    "\n",
    "알고리즘은 쉽다.\n",
    "\n",
    "랜선의 길이를 움직여 랜선 개수를 채우는지 보는 것이다.\n",
    "\n",
    " \n",
    "\n",
    "1) 가장 짧은 길이 1을 start로, 랜선 중 가장 긴 길이를 end로 둔다.\n",
    "\n",
    "2) 이분탐색이 끝날 때까지 while 문을 돌린다.\n",
    "\n",
    " \n",
    "\n",
    "3) mid를 start와 end의 중간으로 두고, 모든 랜선 값을 mid로 나누어 총 몇개의 랜선이 나오나 살펴본다.\n",
    "\n",
    "4-1) 랜선이 목표치 이상이면 mid+1을 start로 두고 다시 while문 반복\n",
    "\n",
    "4-2) 랜선이 목표치 이하면 mid-1을 end로 두고 다시 while문 반복\n",
    "\n",
    "5) start와 end가 같아지면: 조건을 만족하는 최대의 랜선길이를 찾으면 탈출한다.\n",
    "\n",
    "6) 결과값인 end출력"
   ]
  },
  {
   "cell_type": "code",
   "execution_count": 8,
   "metadata": {},
   "outputs": [
    {
     "name": "stdout",
     "output_type": "stream",
     "text": [
      "4 11\n",
      "802\n",
      "743\n",
      "457\n",
      "539\n",
      "200\n"
     ]
    }
   ],
   "source": [
    "import sys\n",
    "K, N = map(int, input().split())\n",
    "#lan = [int(sys.stdin.readline()) for _ in range(K)]\n",
    "lan = [int(input()) for _ in range(K)]\n",
    "\n",
    "start, end = 1, max(lan) #이분탐색 처음과 끝위치\n",
    "\n",
    "while start <= end: #적절한 랜선의 길이를 찾는 알고리즘\n",
    "    mid = (start + end) // 2 #중간 위치\n",
    "    lines = 0 #랜선 수\n",
    "    for i in lan:\n",
    "        lines += i // mid #분할 된 랜선 수\n",
    "        \n",
    "    if lines >= N: #랜선의 개수가 분기점\n",
    "        start = mid + 1\n",
    "    else:\n",
    "        end = mid - 1\n",
    "print(end)"
   ]
  },
  {
   "cell_type": "code",
   "execution_count": null,
   "metadata": {},
   "outputs": [],
   "source": []
  }
 ],
 "metadata": {
  "kernelspec": {
   "display_name": "Python 3",
   "language": "python",
   "name": "python3"
  },
  "language_info": {
   "codemirror_mode": {
    "name": "ipython",
    "version": 3
   },
   "file_extension": ".py",
   "mimetype": "text/x-python",
   "name": "python",
   "nbconvert_exporter": "python",
   "pygments_lexer": "ipython3",
   "version": "3.8.0"
  }
 },
 "nbformat": 4,
 "nbformat_minor": 4
}
