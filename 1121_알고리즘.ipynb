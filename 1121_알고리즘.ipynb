{
  "nbformat": 4,
  "nbformat_minor": 0,
  "metadata": {
    "colab": {
      "name": "1121_알고리즘.ipynb",
      "provenance": []
    },
    "kernelspec": {
      "name": "python3",
      "display_name": "Python 3"
    },
    "language_info": {
      "name": "python"
    }
  },
  "cells": [
    {
      "cell_type": "markdown",
      "metadata": {
        "id": "k9ZHNVHAnpSl"
      },
      "source": [
        "- 구현: 2108\n",
        "- 이분 탐색: 2512\n",
        "- 문자열: 4949\n",
        "- 시뮬레이션: 2947\n",
        "- DFS/BFS: 2606"
      ]
    },
    {
      "cell_type": "code",
      "metadata": {
        "id": "z8XrgjO2JQJM"
      },
      "source": [
        ""
      ],
      "execution_count": null,
      "outputs": []
    },
    {
      "cell_type": "markdown",
      "metadata": {
        "id": "EMahCm4vJQgm"
      },
      "source": [
        "## 2108"
      ]
    },
    {
      "cell_type": "code",
      "metadata": {
        "colab": {
          "base_uri": "https://localhost:8080/"
        },
        "id": "MLARbWuwnpi8",
        "outputId": "2979592d-2b2c-4dd1-864c-27390fb34c19"
      },
      "source": [
        "# input\n",
        "n = int(input())\n",
        "num_list = []\n",
        "for _ in range(n):\n",
        "    num_list.append(int(input()))"
      ],
      "execution_count": 2,
      "outputs": [
        {
          "name": "stdout",
          "output_type": "stream",
          "text": [
            "5\n",
            "1\n",
            "3\n",
            "8\n",
            "-2\n",
            "2\n"
          ]
        }
      ]
    },
    {
      "cell_type": "code",
      "metadata": {
        "id": "gtpsk3Ans5s3"
      },
      "source": [
        "import numpy as np\n",
        "from collections import Counter"
      ],
      "execution_count": 3,
      "outputs": []
    },
    {
      "cell_type": "code",
      "metadata": {
        "id": "yOo4jm3EtfWB"
      },
      "source": [
        "num_list.sort()\n",
        "cnt = Counter(num_list).most_common(2)"
      ],
      "execution_count": 4,
      "outputs": []
    },
    {
      "cell_type": "code",
      "metadata": {
        "colab": {
          "base_uri": "https://localhost:8080/"
        },
        "id": "CYUJKwg6JJBu",
        "outputId": "7d29463d-d1df-4d17-ae43-a3855d0f78f4"
      },
      "source": [
        "cnt"
      ],
      "execution_count": 6,
      "outputs": [
        {
          "output_type": "execute_result",
          "data": {
            "text/plain": [
              "[(-2, 1), (1, 1)]"
            ]
          },
          "metadata": {},
          "execution_count": 6
        }
      ]
    },
    {
      "cell_type": "code",
      "metadata": {
        "colab": {
          "base_uri": "https://localhost:8080/"
        },
        "id": "nSKtD6NrH3GO",
        "outputId": "fb175a56-f43d-4b87-fa7b-38e55e269013"
      },
      "source": [
        "# 산술평균\n",
        "print(round(np.mean(num_list)))\n",
        "# 중앙값\n",
        "print(round(np.median(num_list)))\n",
        "# 최빈값\n",
        "if len(num_list) > 1:\n",
        "    if cnt[0][1] == cnt[1][1]:\n",
        "        print(cnt[1][0])\n",
        "    else:\n",
        "        print(cnt[0][0])\n",
        "else:\n",
        "    print(cnt[0][0])\n",
        " # 범위   \n",
        "print(max(num_list) - min(num_list))"
      ],
      "execution_count": 5,
      "outputs": [
        {
          "output_type": "stream",
          "name": "stdout",
          "text": [
            "1\n",
            "10\n"
          ]
        }
      ]
    },
    {
      "cell_type": "code",
      "metadata": {
        "colab": {
          "base_uri": "https://localhost:8080/"
        },
        "id": "RWUDbUuHnfiM",
        "outputId": "23db127a-2951-4468-dcf9-cc77326e61db"
      },
      "source": [
        "# output\n",
        "# 산술평균\n",
        "print(round(np.mean(num_list)))\n",
        "# 중앙값\n",
        "print(round(np.median(num_list)))\n",
        "# 최빈값\n",
        "num_list.sort()\n",
        "print(num_list)\n",
        "# 범위\n",
        "print()"
      ],
      "execution_count": null,
      "outputs": [
        {
          "output_type": "stream",
          "name": "stdout",
          "text": [
            "4000\n",
            "4000\n",
            "[4000]\n",
            "\n"
          ]
        }
      ]
    },
    {
      "cell_type": "code",
      "metadata": {
        "id": "fNK1PsJ0s0NE"
      },
      "source": [
        ""
      ],
      "execution_count": null,
      "outputs": []
    },
    {
      "cell_type": "markdown",
      "metadata": {
        "id": "IjeHj2SHJSMK"
      },
      "source": [
        "## 2512"
      ]
    },
    {
      "cell_type": "code",
      "metadata": {
        "colab": {
          "base_uri": "https://localhost:8080/"
        },
        "id": "zQg3LPXeJVRl",
        "outputId": "eae8510b-4961-4e25-aad3-984d1d0bbcc1"
      },
      "source": [
        "# input\n",
        "n = int(input())\n",
        "budget = list(map(int, input().split()))\n",
        "m = int(input())"
      ],
      "execution_count": 7,
      "outputs": [
        {
          "name": "stdout",
          "output_type": "stream",
          "text": [
            "4\n",
            "120 110 140 150\n",
            "485\n"
          ]
        }
      ]
    },
    {
      "cell_type": "code",
      "metadata": {
        "colab": {
          "base_uri": "https://localhost:8080/"
        },
        "id": "GJ0igWbzKTZ5",
        "outputId": "fe2b32b9-ab7c-458a-c05d-cac336ddb1c8"
      },
      "source": [
        "left = 0\n",
        "right = max(budget)\n",
        "result = 0\n",
        "\n",
        "while right >= left:\n",
        "    mid = (left + right) // 2\n",
        "    answer = 0\n",
        "    for b in budget:\n",
        "        if b > mid:\n",
        "            answer += mid\n",
        "        else:\n",
        "            answer += b\n",
        "\n",
        "    # answer: 내가 책정한 총 예산, m: 최대 예산\n",
        "    if answer > m:\n",
        "        right = mid - 1\n",
        "    else:\n",
        "        left = mid + 1\n",
        "        result = max(result, answer)\n",
        "print(right)"
      ],
      "execution_count": 19,
      "outputs": [
        {
          "output_type": "stream",
          "name": "stdout",
          "text": [
            "127\n"
          ]
        }
      ]
    },
    {
      "cell_type": "markdown",
      "metadata": {
        "id": "GFp89AE8JVts"
      },
      "source": [
        "## 4949"
      ]
    },
    {
      "cell_type": "code",
      "metadata": {
        "colab": {
          "base_uri": "https://localhost:8080/"
        },
        "id": "qI3ub-h8JXKy",
        "outputId": "523c77a6-6fc7-4a92-98b1-f7e4ce310888"
      },
      "source": [
        "while True:\n",
        "    bracket = input()\n",
        "    if bracket == \".\": # 종료\n",
        "        break\n",
        "    stack = []\n",
        "    answer = True # 짝을 이루지 않는 경우\n",
        "    \n",
        "    for j in bracket:\n",
        "        if j == \"(\" or j == \"[\":\n",
        "            stack.append(j)\n",
        "        \n",
        "        elif j == \")\":\n",
        "            if len(stack) == 0:\n",
        "                answer = False\n",
        "                break\n",
        "            if stack[-1] == \"(\":\n",
        "                stack.pop()\n",
        "            else:\n",
        "                answer = False\n",
        "                break\n",
        "                \n",
        "        elif j == \"]\":\n",
        "            if len(stack) == 0:\n",
        "                answer = False\n",
        "                break\n",
        "            if stack[-1] == \"[\":\n",
        "                stack.pop()\n",
        "            else:\n",
        "                answer = False\n",
        "                break\n",
        "\n",
        "    if answer and not stack:\n",
        "        print(\"yes\")\n",
        "    else:\n",
        "        print(\"no\")"
      ],
      "execution_count": 21,
      "outputs": [
        {
          "name": "stdout",
          "output_type": "stream",
          "text": [
            "So when I die (the [first] I will see in (heaven) is a score list).\n",
            "yes\n",
            "[ first in ] ( first out ).\n",
            "yes\n",
            "Half Moon tonight (At least it is better than no Moon at all].\n",
            "no\n",
            "A rope may form )( a trail in a maze.\n",
            "no\n",
            "Help( I[m being held prisoner in a fortune cookie factory)].\n",
            "no\n",
            "([ (([( [ ] ) ( ) (( ))] )) ]).\n",
            "yes\n",
            " .\n",
            "yes\n",
            ".\n"
          ]
        }
      ]
    },
    {
      "cell_type": "markdown",
      "metadata": {
        "id": "R9RUHj7kJXtC"
      },
      "source": [
        "##2947"
      ]
    },
    {
      "cell_type": "code",
      "metadata": {
        "colab": {
          "base_uri": "https://localhost:8080/"
        },
        "id": "CrR2Mi9hRZnZ",
        "outputId": "5f4206f1-1d2b-42fe-e21c-9bf2fe2e8b2f"
      },
      "source": [
        "n = input().split()\n",
        "n"
      ],
      "execution_count": 22,
      "outputs": [
        {
          "name": "stdout",
          "output_type": "stream",
          "text": [
            "2 3 4 5 1\n"
          ]
        },
        {
          "output_type": "execute_result",
          "data": {
            "text/plain": [
              "['2', '3', '4', '5', '1']"
            ]
          },
          "metadata": {},
          "execution_count": 22
        }
      ]
    },
    {
      "cell_type": "code",
      "metadata": {
        "colab": {
          "base_uri": "https://localhost:8080/"
        },
        "id": "DV23_HlvJZlv",
        "outputId": "7f436631-8cad-459c-cda9-987d71eb428a"
      },
      "source": [
        "n = input().split()\n",
        "for i in range(len(n)):\n",
        "    for j in range(len(n)-1):\n",
        "        if n[j] > n[j+1]:\n",
        "            n[j], n[j+1] = n[j+1], n[j]\n",
        "            print(''.join(n))"
      ],
      "execution_count": 24,
      "outputs": [
        {
          "output_type": "stream",
          "name": "stdout",
          "text": [
            "2 3 4 5 1\n",
            "23415\n",
            "23145\n",
            "21345\n",
            "12345\n"
          ]
        }
      ]
    },
    {
      "cell_type": "markdown",
      "metadata": {
        "id": "tLJUDVx9JaLX"
      },
      "source": [
        "## 2606"
      ]
    },
    {
      "cell_type": "code",
      "metadata": {
        "colab": {
          "base_uri": "https://localhost:8080/"
        },
        "id": "cSOniJ41Jb_v",
        "outputId": "a2967f28-cef8-4887-98bb-29d38027952a"
      },
      "source": [
        "N = int(input()) \n",
        "P = int(input()) \n",
        "graph = [[0]*(N+1) \n",
        "for _ in range(N+1)] \n",
        "done = [] # visited\n",
        "\n",
        "for _ in range(P): \n",
        "    x, y = map(int, input().split()) \n",
        "    graph[x][y], graph[y][x] = 1, 1 \n",
        "\n",
        "def dfs(v): \n",
        "    done.append(v) \n",
        "    for k in range(1, N+1): # 1 ~ n번까지 \n",
        "        if (k not in done) and (graph[v][k] == 1): \n",
        "            dfs(k) \n",
        "    return (len(done) - 1) # 1번을 제외한 컴퓨터 수 \n",
        "    \n",
        "    \n",
        "print(dfs(1))"
      ],
      "execution_count": 26,
      "outputs": [
        {
          "name": "stdout",
          "output_type": "stream",
          "text": [
            "7\n",
            "6\n",
            "1 2\n",
            "2 3\n",
            "1 5\n",
            "5 2\n",
            "5 6\n",
            "4 7\n"
          ]
        }
      ]
    },
    {
      "cell_type": "code",
      "metadata": {
        "colab": {
          "base_uri": "https://localhost:8080/"
        },
        "id": "4UcsopegVByl",
        "outputId": "0f97296c-d2b2-416e-ab01-3743312b51c3"
      },
      "source": [
        "print(dfs(1))"
      ],
      "execution_count": 27,
      "outputs": [
        {
          "output_type": "stream",
          "name": "stdout",
          "text": [
            "4\n"
          ]
        }
      ]
    }
  ]
}