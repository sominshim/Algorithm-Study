{
  "nbformat": 4,
  "nbformat_minor": 0,
  "metadata": {
    "colab": {
      "name": "0919.ipynb",
      "provenance": [],
      "authorship_tag": "ABX9TyNMbYH90lw9OrKVgvHIKfJ9",
      "include_colab_link": true
    },
    "kernelspec": {
      "name": "python3",
      "display_name": "Python 3"
    },
    "language_info": {
      "name": "python"
    }
  },
  "cells": [
    {
      "cell_type": "markdown",
      "metadata": {
        "id": "view-in-github",
        "colab_type": "text"
      },
      "source": [
        "<a href=\"https://colab.research.google.com/github/sominshim/Algorithm-Study/blob/main/0919.ipynb\" target=\"_parent\"><img src=\"https://colab.research.google.com/assets/colab-badge.svg\" alt=\"Open In Colab\"/></a>"
      ]
    },
    {
      "cell_type": "markdown",
      "metadata": {
        "id": "1nKkyaa2IBbI"
      },
      "source": [
        "### 피보나치 수열\n",
        "[1003](https://www.acmicpc.net/problem/1003) "
      ]
    },
    {
      "cell_type": "code",
      "metadata": {
        "id": "H7CVP8GnIAQA"
      },
      "source": [
        "def fibo(n, cnt0, cnt1):\n",
        "    if n==0:\n",
        "        cnt0 += 1\n",
        "        return print(cnt0)\n",
        "    elif n==1:\n",
        "        cnt1 += 1\n",
        "        return print(cnt1)\n",
        "    else:\n",
        "        return fibo(n-1, cnt0, cnt1), fibo(n-2, cnt0, cnt1)"
      ],
      "execution_count": null,
      "outputs": []
    },
    {
      "cell_type": "code",
      "metadata": {
        "colab": {
          "base_uri": "https://localhost:8080/"
        },
        "id": "CSmBNesPMMa3",
        "outputId": "8fec3da9-fe7e-4903-ce1a-c449eca7807c"
      },
      "source": [
        "cnt0, cnt1 = 0, 0\n",
        "fibo(3, cnt0, cnt1)\n",
        "print(cnt0, cnt1)"
      ],
      "execution_count": null,
      "outputs": [
        {
          "output_type": "stream",
          "name": "stdout",
          "text": [
            "1\n",
            "1\n",
            "1\n",
            "0 0\n"
          ]
        }
      ]
    },
    {
      "cell_type": "code",
      "metadata": {
        "id": "fFIWOGWtMizu"
      },
      "source": [
        "# 입력\n",
        "t = int(input())\n",
        "for i in range(t):\n",
        "    n = int(input())\n",
        "    cnt0, cnt1 = 0, 0\n",
        "    fibo(n, cnt0, cnt1)\n",
        "    print(cnt0, cnt1)"
      ],
      "execution_count": null,
      "outputs": []
    },
    {
      "cell_type": "code",
      "metadata": {
        "id": "uAXBMXGMMMT2"
      },
      "source": [
        ""
      ],
      "execution_count": null,
      "outputs": []
    },
    {
      "cell_type": "code",
      "metadata": {
        "colab": {
          "base_uri": "https://localhost:8080/"
        },
        "id": "8RX9W_NvMCUu",
        "outputId": "fa42a9d4-66a3-48ee-d124-ab96431bb495"
      },
      "source": [
        "k=[0,2]\n",
        "print(k[0], k[1])"
      ],
      "execution_count": null,
      "outputs": [
        {
          "output_type": "stream",
          "name": "stdout",
          "text": [
            "0 2\n"
          ]
        }
      ]
    },
    {
      "cell_type": "code",
      "metadata": {
        "colab": {
          "base_uri": "https://localhost:8080/"
        },
        "id": "8D4NPyTVK9Ja",
        "outputId": "0afb228d-d2f4-49a2-f27e-f7d385192a00"
      },
      "source": [
        "fibo(0)"
      ],
      "execution_count": null,
      "outputs": [
        {
          "output_type": "stream",
          "name": "stdout",
          "text": [
            "0\n"
          ]
        },
        {
          "output_type": "execute_result",
          "data": {
            "text/plain": [
              "0"
            ]
          },
          "metadata": {},
          "execution_count": 3
        }
      ]
    },
    {
      "cell_type": "markdown",
      "metadata": {
        "id": "R5XYCRVlIZU4"
      },
      "source": [
        "### 그룹 단어 체커\n",
        "[1316](https://www.acmicpc.net/problem/1316)"
      ]
    },
    {
      "cell_type": "code",
      "metadata": {
        "id": "GTYsQvIxI3mK"
      },
      "source": [
        ""
      ],
      "execution_count": null,
      "outputs": []
    },
    {
      "cell_type": "markdown",
      "metadata": {
        "id": "0wQZND6uIZSQ"
      },
      "source": [
        "### 큐\n",
        " [10845](https://acmicpc.net/problem/10845)"
      ]
    },
    {
      "cell_type": "code",
      "metadata": {
        "id": "MdnJE8NaI4I1"
      },
      "source": [
        ""
      ],
      "execution_count": null,
      "outputs": []
    },
    {
      "cell_type": "markdown",
      "metadata": {
        "id": "jAs_jvugIZO5"
      },
      "source": [
        "### 나무 자르기\n",
        "[2805](https://www.acmicpc.net/problem/2805)"
      ]
    },
    {
      "cell_type": "code",
      "metadata": {
        "id": "19trd_zgI4cp"
      },
      "source": [
        ""
      ],
      "execution_count": null,
      "outputs": []
    },
    {
      "cell_type": "markdown",
      "metadata": {
        "id": "ZFRBdO0pIZMB"
      },
      "source": [
        "### 프린터 큐\n",
        "\n",
        "[1966](https://www.acmicpc.net/problem/1966)"
      ]
    },
    {
      "cell_type": "code",
      "metadata": {
        "id": "tmb7_4yQI483"
      },
      "source": [
        ""
      ],
      "execution_count": null,
      "outputs": []
    },
    {
      "cell_type": "markdown",
      "metadata": {
        "id": "UGKY1bxcIZJI"
      },
      "source": [
        "### 미로탐색\n",
        "[2178](https://www.acmicpc.net/problem/2178)"
      ]
    },
    {
      "cell_type": "code",
      "metadata": {
        "id": "dZaPIEECI5OP"
      },
      "source": [
        ""
      ],
      "execution_count": null,
      "outputs": []
    },
    {
      "cell_type": "markdown",
      "metadata": {
        "id": "GELwipQ8IZGk"
      },
      "source": [
        "### 단지 번호 붙이기\n",
        "[2667](https://www.acmicpc.net/problem/2667)"
      ]
    },
    {
      "cell_type": "code",
      "metadata": {
        "id": "iQkxQdmVIkvD"
      },
      "source": [
        ""
      ],
      "execution_count": null,
      "outputs": []
    }
  ]
}